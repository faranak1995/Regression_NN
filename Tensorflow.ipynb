{
 "cells": [
  {
   "cell_type": "code",
   "execution_count": 1,
   "id": "a7cf9634",
   "metadata": {},
   "outputs": [],
   "source": [
    "import tensorflow as tf\n",
    "import keras\n",
    "import numpy as np\n",
    "import matplotlib.pyplot as plt\n",
    "from sklearn.datasets import make_regression #Helps us to make a dataset using this methiod"
   ]
  },
  {
   "cell_type": "code",
   "execution_count": 2,
   "id": "e1f6d269",
   "metadata": {},
   "outputs": [
    {
     "data": {
      "text/plain": [
       "(1000,)"
      ]
     },
     "execution_count": 2,
     "metadata": {},
     "output_type": "execute_result"
    }
   ],
   "source": [
    "# Regression with neural networks\n",
    "# We make our own data\n",
    "data = make_regression(n_samples = 1000, n_features = 5, noise = 0.2, random_state = 42)\n",
    "data[1].shape"
   ]
  },
  {
   "cell_type": "code",
   "execution_count": 3,
   "id": "0112a86a",
   "metadata": {},
   "outputs": [
    {
     "data": {
      "text/plain": [
       "74.8638525346159"
      ]
     },
     "execution_count": 3,
     "metadata": {},
     "output_type": "execute_result"
    }
   ],
   "source": [
    "x = data[0]\n",
    "y = data[1]\n",
    "y[0]"
   ]
  },
  {
   "cell_type": "code",
   "execution_count": 4,
   "id": "1d903a60",
   "metadata": {},
   "outputs": [],
   "source": [
    "from sklearn.preprocessing import StandardScaler"
   ]
  },
  {
   "cell_type": "code",
   "execution_count": 5,
   "id": "e14f4b33",
   "metadata": {},
   "outputs": [],
   "source": [
    "scaler = StandardScaler()\n",
    "X = scaler.fit_transform(x)"
   ]
  },
  {
   "cell_type": "code",
   "execution_count": 6,
   "id": "cc5322a7",
   "metadata": {},
   "outputs": [],
   "source": [
    "from sklearn.model_selection import train_test_split"
   ]
  },
  {
   "cell_type": "code",
   "execution_count": 7,
   "id": "59ae8716",
   "metadata": {},
   "outputs": [],
   "source": [
    "X_train, X_test, y_train, y_test = train_test_split(X, y, test_size = 0.2)"
   ]
  },
  {
   "cell_type": "code",
   "execution_count": 8,
   "id": "9eb85e36",
   "metadata": {},
   "outputs": [
    {
     "data": {
      "text/plain": [
       "(800, 5)"
      ]
     },
     "execution_count": 8,
     "metadata": {},
     "output_type": "execute_result"
    }
   ],
   "source": [
    "X_train.shape"
   ]
  },
  {
   "cell_type": "code",
   "execution_count": 9,
   "id": "1d400211",
   "metadata": {},
   "outputs": [
    {
     "data": {
      "text/plain": [
       "(800,)"
      ]
     },
     "execution_count": 9,
     "metadata": {},
     "output_type": "execute_result"
    }
   ],
   "source": [
    "y_train.shape"
   ]
  },
  {
   "cell_type": "code",
   "execution_count": 10,
   "id": "b9b57a3b",
   "metadata": {},
   "outputs": [
    {
     "name": "stdout",
     "output_type": "stream",
     "text": [
      "Model: \"sequential\"\n",
      "_________________________________________________________________\n",
      " Layer (type)                Output Shape              Param #   \n",
      "=================================================================\n",
      " dense (Dense)               (None, 16)                96        \n",
      "                                                                 \n",
      " dense_1 (Dense)             (None, 16)                272       \n",
      "                                                                 \n",
      " dense_2 (Dense)             (None, 1)                 17        \n",
      "                                                                 \n",
      "=================================================================\n",
      "Total params: 385\n",
      "Trainable params: 385\n",
      "Non-trainable params: 0\n",
      "_________________________________________________________________\n"
     ]
    }
   ],
   "source": [
    "#First way: Sequential means the layers have sequence\n",
    "model = tf.keras.models.Sequential(\n",
    "[tf.keras.layers.Input(shape=(5, )),#number of features\n",
    " tf.keras.layers.Dense(units=16, activation='relu'),\n",
    " tf.keras.layers.Dense(units= 16, activation='relu'),\n",
    " tf.keras.layers.Dense(units=1, activation='linear')\n",
    "]\n",
    "    \n",
    ")\n",
    "#We make layers\n",
    "model.summary()"
   ]
  },
  {
   "cell_type": "code",
   "execution_count": 11,
   "id": "e9b70045",
   "metadata": {},
   "outputs": [
    {
     "name": "stdout",
     "output_type": "stream",
     "text": [
      "Model: \"sequential_1\"\n",
      "_________________________________________________________________\n",
      " Layer (type)                Output Shape              Param #   \n",
      "=================================================================\n",
      " dense_3 (Dense)             (None, 16)                96        \n",
      "                                                                 \n",
      " dense_4 (Dense)             (None, 16)                272       \n",
      "                                                                 \n",
      " dense_5 (Dense)             (None, 1)                 17        \n",
      "                                                                 \n",
      "=================================================================\n",
      "Total params: 385\n",
      "Trainable params: 385\n",
      "Non-trainable params: 0\n",
      "_________________________________________________________________\n"
     ]
    }
   ],
   "source": [
    "#Second way\n",
    "model = tf.keras.models.Sequential()\n",
    "model.add(tf.keras.layers.Input(shape=(5, )))\n",
    "model.add(tf.keras.layers.Dense(units=16, activation='relu'))\n",
    "model.add(tf.keras.layers.Dense(units= 16, activation='relu'))\n",
    "model.add(tf.keras.layers.Dense(units=1, activation='linear'))\n",
    "\n",
    "model.summary()"
   ]
  },
  {
   "cell_type": "code",
   "execution_count": 12,
   "id": "046abd4c",
   "metadata": {},
   "outputs": [
    {
     "name": "stdout",
     "output_type": "stream",
     "text": [
      "Epoch 1/100\n",
      "15/15 - 2s - loss: 4296.4912 - val_loss: 3051.4485 - 2s/epoch - 110ms/step\n",
      "Epoch 2/100\n",
      "15/15 - 0s - loss: 4274.7183 - val_loss: 3034.2495 - 97ms/epoch - 6ms/step\n",
      "Epoch 3/100\n",
      "15/15 - 0s - loss: 4251.8691 - val_loss: 3014.7976 - 98ms/epoch - 7ms/step\n",
      "Epoch 4/100\n",
      "15/15 - 0s - loss: 4227.0146 - val_loss: 2990.5034 - 96ms/epoch - 6ms/step\n",
      "Epoch 5/100\n",
      "15/15 - 0s - loss: 4197.4077 - val_loss: 2961.7012 - 79ms/epoch - 5ms/step\n",
      "Epoch 6/100\n",
      "15/15 - 0s - loss: 4161.6611 - val_loss: 2925.4331 - 83ms/epoch - 6ms/step\n",
      "Epoch 7/100\n",
      "15/15 - 0s - loss: 4117.9600 - val_loss: 2879.7046 - 90ms/epoch - 6ms/step\n",
      "Epoch 8/100\n",
      "15/15 - 0s - loss: 4064.5847 - val_loss: 2822.6497 - 102ms/epoch - 7ms/step\n",
      "Epoch 9/100\n",
      "15/15 - 0s - loss: 3999.1614 - val_loss: 2753.7446 - 96ms/epoch - 6ms/step\n",
      "Epoch 10/100\n",
      "15/15 - 0s - loss: 3919.6284 - val_loss: 2671.7708 - 88ms/epoch - 6ms/step\n",
      "Epoch 11/100\n",
      "15/15 - 0s - loss: 3824.0833 - val_loss: 2577.1255 - 98ms/epoch - 7ms/step\n",
      "Epoch 12/100\n",
      "15/15 - 0s - loss: 3711.0920 - val_loss: 2466.9263 - 88ms/epoch - 6ms/step\n",
      "Epoch 13/100\n",
      "15/15 - 0s - loss: 3585.0247 - val_loss: 2344.8376 - 71ms/epoch - 5ms/step\n",
      "Epoch 14/100\n",
      "15/15 - 0s - loss: 3441.5007 - val_loss: 2213.2798 - 81ms/epoch - 5ms/step\n",
      "Epoch 15/100\n",
      "15/15 - 0s - loss: 3286.8584 - val_loss: 2068.8315 - 99ms/epoch - 7ms/step\n",
      "Epoch 16/100\n",
      "15/15 - 0s - loss: 3116.7910 - val_loss: 1921.1266 - 76ms/epoch - 5ms/step\n",
      "Epoch 17/100\n",
      "15/15 - 0s - loss: 2938.2722 - val_loss: 1759.6461 - 82ms/epoch - 5ms/step\n",
      "Epoch 18/100\n",
      "15/15 - 0s - loss: 2739.0127 - val_loss: 1600.2789 - 103ms/epoch - 7ms/step\n",
      "Epoch 19/100\n",
      "15/15 - 0s - loss: 2545.4592 - val_loss: 1435.2794 - 95ms/epoch - 6ms/step\n",
      "Epoch 20/100\n",
      "15/15 - 0s - loss: 2338.2202 - val_loss: 1284.3236 - 90ms/epoch - 6ms/step\n",
      "Epoch 21/100\n",
      "15/15 - 0s - loss: 2145.3254 - val_loss: 1139.1274 - 92ms/epoch - 6ms/step\n",
      "Epoch 22/100\n",
      "15/15 - 0s - loss: 1951.5098 - val_loss: 1013.7892 - 88ms/epoch - 6ms/step\n",
      "Epoch 23/100\n",
      "15/15 - 0s - loss: 1777.1946 - val_loss: 894.5432 - 110ms/epoch - 7ms/step\n",
      "Epoch 24/100\n",
      "15/15 - 0s - loss: 1607.1934 - val_loss: 790.5195 - 98ms/epoch - 7ms/step\n",
      "Epoch 25/100\n",
      "15/15 - 0s - loss: 1450.9100 - val_loss: 697.6604 - 102ms/epoch - 7ms/step\n",
      "Epoch 26/100\n",
      "15/15 - 0s - loss: 1303.3058 - val_loss: 616.6077 - 75ms/epoch - 5ms/step\n",
      "Epoch 27/100\n",
      "15/15 - 0s - loss: 1169.1360 - val_loss: 542.8851 - 71ms/epoch - 5ms/step\n",
      "Epoch 28/100\n",
      "15/15 - 0s - loss: 1043.2426 - val_loss: 476.7825 - 89ms/epoch - 6ms/step\n",
      "Epoch 29/100\n",
      "15/15 - 0s - loss: 924.7633 - val_loss: 416.9149 - 102ms/epoch - 7ms/step\n",
      "Epoch 30/100\n",
      "15/15 - 0s - loss: 818.8183 - val_loss: 362.3689 - 95ms/epoch - 6ms/step\n",
      "Epoch 31/100\n",
      "15/15 - 0s - loss: 717.2094 - val_loss: 315.0571 - 91ms/epoch - 6ms/step\n",
      "Epoch 32/100\n",
      "15/15 - 0s - loss: 628.1830 - val_loss: 273.4784 - 91ms/epoch - 6ms/step\n",
      "Epoch 33/100\n",
      "15/15 - 0s - loss: 549.3214 - val_loss: 236.3668 - 102ms/epoch - 7ms/step\n",
      "Epoch 34/100\n",
      "15/15 - 0s - loss: 475.2194 - val_loss: 205.9090 - 104ms/epoch - 7ms/step\n",
      "Epoch 35/100\n",
      "15/15 - 0s - loss: 412.3599 - val_loss: 180.5856 - 96ms/epoch - 6ms/step\n",
      "Epoch 36/100\n",
      "15/15 - 0s - loss: 358.0982 - val_loss: 160.6519 - 113ms/epoch - 8ms/step\n",
      "Epoch 37/100\n",
      "15/15 - 0s - loss: 311.8540 - val_loss: 144.6304 - 87ms/epoch - 6ms/step\n",
      "Epoch 38/100\n",
      "15/15 - 0s - loss: 272.9899 - val_loss: 131.5228 - 95ms/epoch - 6ms/step\n",
      "Epoch 39/100\n",
      "15/15 - 0s - loss: 240.6251 - val_loss: 121.6628 - 93ms/epoch - 6ms/step\n",
      "Epoch 40/100\n",
      "15/15 - 0s - loss: 213.5836 - val_loss: 113.8843 - 88ms/epoch - 6ms/step\n",
      "Epoch 41/100\n",
      "15/15 - 0s - loss: 191.9071 - val_loss: 107.5823 - 93ms/epoch - 6ms/step\n",
      "Epoch 42/100\n",
      "15/15 - 0s - loss: 173.4726 - val_loss: 101.6369 - 105ms/epoch - 7ms/step\n",
      "Epoch 43/100\n",
      "15/15 - 0s - loss: 158.1902 - val_loss: 96.4639 - 99ms/epoch - 7ms/step\n",
      "Epoch 44/100\n",
      "15/15 - 0s - loss: 145.3049 - val_loss: 91.4158 - 96ms/epoch - 6ms/step\n",
      "Epoch 45/100\n",
      "15/15 - 0s - loss: 133.9061 - val_loss: 85.9360 - 89ms/epoch - 6ms/step\n",
      "Epoch 46/100\n",
      "15/15 - 0s - loss: 123.6393 - val_loss: 80.5120 - 87ms/epoch - 6ms/step\n",
      "Epoch 47/100\n",
      "15/15 - 0s - loss: 115.0119 - val_loss: 75.2303 - 62ms/epoch - 4ms/step\n",
      "Epoch 48/100\n",
      "15/15 - 0s - loss: 106.5503 - val_loss: 70.3628 - 72ms/epoch - 5ms/step\n",
      "Epoch 49/100\n",
      "15/15 - 0s - loss: 99.4222 - val_loss: 66.3100 - 88ms/epoch - 6ms/step\n",
      "Epoch 50/100\n",
      "15/15 - 0s - loss: 93.2042 - val_loss: 62.6387 - 93ms/epoch - 6ms/step\n",
      "Epoch 51/100\n",
      "15/15 - 0s - loss: 88.2504 - val_loss: 60.5983 - 93ms/epoch - 6ms/step\n",
      "Epoch 52/100\n",
      "15/15 - 0s - loss: 84.0482 - val_loss: 58.4528 - 96ms/epoch - 6ms/step\n",
      "Epoch 53/100\n",
      "15/15 - 0s - loss: 79.7204 - val_loss: 55.3622 - 91ms/epoch - 6ms/step\n",
      "Epoch 54/100\n",
      "15/15 - 0s - loss: 75.6893 - val_loss: 52.3463 - 98ms/epoch - 7ms/step\n",
      "Epoch 55/100\n",
      "15/15 - 0s - loss: 71.6606 - val_loss: 49.7344 - 101ms/epoch - 7ms/step\n",
      "Epoch 56/100\n",
      "15/15 - 0s - loss: 68.3687 - val_loss: 46.7540 - 99ms/epoch - 7ms/step\n",
      "Epoch 57/100\n",
      "15/15 - 0s - loss: 64.6659 - val_loss: 44.2969 - 100ms/epoch - 7ms/step\n",
      "Epoch 58/100\n",
      "15/15 - 0s - loss: 62.0724 - val_loss: 42.7121 - 85ms/epoch - 6ms/step\n",
      "Epoch 59/100\n",
      "15/15 - 0s - loss: 59.2486 - val_loss: 40.9692 - 84ms/epoch - 6ms/step\n",
      "Epoch 60/100\n",
      "15/15 - 0s - loss: 56.4650 - val_loss: 38.7797 - 98ms/epoch - 7ms/step\n",
      "Epoch 61/100\n",
      "15/15 - 0s - loss: 54.8205 - val_loss: 37.8067 - 99ms/epoch - 7ms/step\n",
      "Epoch 62/100\n",
      "15/15 - 0s - loss: 53.0324 - val_loss: 37.3391 - 96ms/epoch - 6ms/step\n",
      "Epoch 63/100\n",
      "15/15 - 0s - loss: 51.6115 - val_loss: 36.5723 - 95ms/epoch - 6ms/step\n",
      "Epoch 64/100\n",
      "15/15 - 0s - loss: 50.6689 - val_loss: 35.8191 - 91ms/epoch - 6ms/step\n",
      "Epoch 65/100\n",
      "15/15 - 0s - loss: 49.7974 - val_loss: 36.4870 - 92ms/epoch - 6ms/step\n",
      "Epoch 66/100\n",
      "15/15 - 0s - loss: 48.8522 - val_loss: 35.0301 - 95ms/epoch - 6ms/step\n",
      "Epoch 67/100\n",
      "15/15 - 0s - loss: 48.1339 - val_loss: 34.8132 - 90ms/epoch - 6ms/step\n",
      "Epoch 68/100\n",
      "15/15 - 0s - loss: 47.5047 - val_loss: 34.3678 - 78ms/epoch - 5ms/step\n",
      "Epoch 69/100\n",
      "15/15 - 0s - loss: 46.9259 - val_loss: 34.8294 - 74ms/epoch - 5ms/step\n",
      "Epoch 70/100\n",
      "15/15 - 0s - loss: 46.0776 - val_loss: 33.1008 - 95ms/epoch - 6ms/step\n",
      "Epoch 71/100\n",
      "15/15 - 0s - loss: 45.5396 - val_loss: 32.9798 - 87ms/epoch - 6ms/step\n",
      "Epoch 72/100\n",
      "15/15 - 0s - loss: 44.8972 - val_loss: 32.9755 - 106ms/epoch - 7ms/step\n",
      "Epoch 73/100\n",
      "15/15 - 0s - loss: 44.5208 - val_loss: 32.4685 - 84ms/epoch - 6ms/step\n",
      "Epoch 74/100\n",
      "15/15 - 0s - loss: 43.8423 - val_loss: 32.9743 - 92ms/epoch - 6ms/step\n",
      "Epoch 75/100\n",
      "15/15 - 0s - loss: 43.1611 - val_loss: 31.4721 - 94ms/epoch - 6ms/step\n",
      "Epoch 76/100\n",
      "15/15 - 0s - loss: 42.7677 - val_loss: 30.8656 - 85ms/epoch - 6ms/step\n",
      "Epoch 77/100\n",
      "15/15 - 0s - loss: 42.3144 - val_loss: 30.6571 - 90ms/epoch - 6ms/step\n",
      "Epoch 78/100\n",
      "15/15 - 0s - loss: 41.6973 - val_loss: 30.6701 - 86ms/epoch - 6ms/step\n",
      "Epoch 79/100\n",
      "15/15 - 0s - loss: 41.1281 - val_loss: 30.2015 - 84ms/epoch - 6ms/step\n",
      "Epoch 80/100\n",
      "15/15 - 0s - loss: 40.6956 - val_loss: 29.5346 - 65ms/epoch - 4ms/step\n",
      "Epoch 81/100\n",
      "15/15 - 0s - loss: 40.0275 - val_loss: 30.7110 - 72ms/epoch - 5ms/step\n",
      "Epoch 82/100\n",
      "15/15 - 0s - loss: 39.6164 - val_loss: 29.9159 - 75ms/epoch - 5ms/step\n",
      "Epoch 83/100\n",
      "15/15 - 0s - loss: 38.8998 - val_loss: 28.5541 - 77ms/epoch - 5ms/step\n",
      "Epoch 84/100\n",
      "15/15 - 0s - loss: 38.2209 - val_loss: 28.1327 - 76ms/epoch - 5ms/step\n",
      "Epoch 85/100\n",
      "15/15 - 0s - loss: 37.6319 - val_loss: 27.5670 - 90ms/epoch - 6ms/step\n",
      "Epoch 86/100\n",
      "15/15 - 0s - loss: 36.8881 - val_loss: 26.8860 - 97ms/epoch - 6ms/step\n",
      "Epoch 87/100\n",
      "15/15 - 0s - loss: 36.3318 - val_loss: 26.6668 - 93ms/epoch - 6ms/step\n",
      "Epoch 88/100\n",
      "15/15 - 0s - loss: 35.8292 - val_loss: 26.0733 - 90ms/epoch - 6ms/step\n",
      "Epoch 89/100\n",
      "15/15 - 0s - loss: 35.3103 - val_loss: 25.5229 - 91ms/epoch - 6ms/step\n",
      "Epoch 90/100\n",
      "15/15 - 0s - loss: 34.7838 - val_loss: 25.7975 - 81ms/epoch - 5ms/step\n",
      "Epoch 91/100\n",
      "15/15 - 0s - loss: 34.4308 - val_loss: 25.1471 - 81ms/epoch - 5ms/step\n",
      "Epoch 92/100\n",
      "15/15 - 0s - loss: 33.8723 - val_loss: 24.5731 - 84ms/epoch - 6ms/step\n",
      "Epoch 93/100\n",
      "15/15 - 0s - loss: 33.5963 - val_loss: 24.2337 - 95ms/epoch - 6ms/step\n",
      "Epoch 94/100\n",
      "15/15 - 0s - loss: 33.2654 - val_loss: 24.2029 - 89ms/epoch - 6ms/step\n",
      "Epoch 95/100\n",
      "15/15 - 0s - loss: 32.7762 - val_loss: 24.4530 - 96ms/epoch - 6ms/step\n",
      "Epoch 96/100\n",
      "15/15 - 0s - loss: 32.4567 - val_loss: 23.7798 - 93ms/epoch - 6ms/step\n",
      "Epoch 97/100\n",
      "15/15 - 0s - loss: 32.0949 - val_loss: 23.3829 - 90ms/epoch - 6ms/step\n",
      "Epoch 98/100\n",
      "15/15 - 0s - loss: 31.9604 - val_loss: 22.8686 - 97ms/epoch - 6ms/step\n",
      "Epoch 99/100\n",
      "15/15 - 0s - loss: 31.4349 - val_loss: 23.0057 - 98ms/epoch - 7ms/step\n",
      "Epoch 100/100\n",
      "15/15 - 0s - loss: 31.0151 - val_loss: 22.7525 - 98ms/epoch - 7ms/step\n"
     ]
    },
    {
     "data": {
      "text/plain": [
       "<keras.callbacks.History at 0x25ac698bf40>"
      ]
     },
     "execution_count": 12,
     "metadata": {},
     "output_type": "execute_result"
    }
   ],
   "source": [
    "#compile the model\n",
    "loss = tf.losses.MeanSquaredError()\n",
    "opt = tf.optimizers.Adam()\n",
    "model.compile(loss=loss, optimizer=opt)\n",
    "\n",
    "model.fit(X_train, y_train, validation_split=0.1, epochs=100, batch_size=50, verbose=2)"
   ]
  },
  {
   "cell_type": "code",
   "execution_count": 13,
   "id": "3686f89e",
   "metadata": {},
   "outputs": [
    {
     "name": "stdout",
     "output_type": "stream",
     "text": [
      "25/25 [==============================] - 0s 3ms/step - loss: 29.9232\n"
     ]
    },
    {
     "data": {
      "text/plain": [
       "29.9232234954834"
      ]
     },
     "execution_count": 13,
     "metadata": {},
     "output_type": "execute_result"
    }
   ],
   "source": [
    "model.evaluate(X_train, y_train)"
   ]
  },
  {
   "cell_type": "code",
   "execution_count": 14,
   "id": "9c28df36",
   "metadata": {},
   "outputs": [
    {
     "name": "stdout",
     "output_type": "stream",
     "text": [
      "7/7 [==============================] - 0s 3ms/step - loss: 30.8218\n"
     ]
    },
    {
     "data": {
      "text/plain": [
       "30.821815490722656"
      ]
     },
     "execution_count": 14,
     "metadata": {},
     "output_type": "execute_result"
    }
   ],
   "source": [
    "model.evaluate(X_test, y_test)"
   ]
  },
  {
   "cell_type": "code",
   "execution_count": 15,
   "id": "04f21b0b",
   "metadata": {},
   "outputs": [
    {
     "name": "stdout",
     "output_type": "stream",
     "text": [
      "7/7 [==============================] - 0s 2ms/step\n"
     ]
    }
   ],
   "source": [
    "y_pred = model.predict(X_test)"
   ]
  },
  {
   "cell_type": "code",
   "execution_count": 16,
   "id": "8eb4df67",
   "metadata": {},
   "outputs": [
    {
     "data": {
      "text/plain": [
       "(200, 1)"
      ]
     },
     "execution_count": 16,
     "metadata": {},
     "output_type": "execute_result"
    }
   ],
   "source": [
    "y_pred.shape"
   ]
  },
  {
   "cell_type": "code",
   "execution_count": 17,
   "id": "5bd3e97f",
   "metadata": {},
   "outputs": [
    {
     "data": {
      "text/plain": [
       "(200,)"
      ]
     },
     "execution_count": 17,
     "metadata": {},
     "output_type": "execute_result"
    }
   ],
   "source": [
    "y_test.shape"
   ]
  },
  {
   "cell_type": "code",
   "execution_count": 18,
   "id": "b79c4abc",
   "metadata": {},
   "outputs": [
    {
     "data": {
      "image/png": "[encoded data removed]",
      "text/plain": [
       "<Figure size 640x480 with 1 Axes>"
      ]
     },
     "metadata": {},
     "output_type": "display_data"
    }
   ],
   "source": [
    "#Comparison between y_pred and y_test\n",
    "plt.scatter(y_pred[:5], range(5), color='red')\n",
    "plt.scatter(y_test[:5], range(5), color='blue')\n",
    "plt.show()"
   ]
  }
 ],
 "metadata": {
  "kernelspec": {
   "display_name": "Python 3 (ipykernel)",
   "language": "python",
   "name": "python3"
  },
  "language_info": {
   "codemirror_mode": {
    "name": "ipython",
    "version": 3
   },
   "file_extension": ".py",
   "mimetype": "text/x-python",
   "name": "python",
   "nbconvert_exporter": "python",
   "pygments_lexer": "ipython3",
   "version": "3.9.13"
  }
 },
 "nbformat": 4,
 "nbformat_minor": 5
}
